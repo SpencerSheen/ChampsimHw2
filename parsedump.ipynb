{
 "cells": [
  {
   "cell_type": "code",
   "execution_count": 1,
   "metadata": {},
   "outputs": [],
   "source": [
    "file1 = open('lru.txt', 'r')\n",
    "Lines = file1.readlines()"
   ]
  },
  {
   "cell_type": "code",
   "execution_count": 21,
   "metadata": {},
   "outputs": [],
   "source": [
    "lru_list = []\n",
    "lru_entry = []\n",
    "\n",
    "for line in Lines:\n",
    "    \n",
    "    # Line 1: CPU 0 runs /datasets/cs240c-wi22-a00-public/data/Assignment2-gz/\n",
    "    if \"CPU 0 runs /datasets/cs240c-wi22-a00-public/data/Assignment2-gz/\" in line:\n",
    "        lru_entry = []\n",
    "        lru_entry.append(line[len(\"CPU 0 runs /datasets/cs240c-wi22-a00-public/data/Assignment2-gz/\"):].strip())\n",
    "    # Line 2: CPU 0 cummulative IPC:\n",
    "    elif \"CPU 0 cummulative IPC:\" in line:\n",
    "        start = len(\"CPU 0 cummulative IPC: \")\n",
    "        lru_entry.append(float(line[start:line.index(\" \", start)]))\n",
    "    \n",
    "    # Line 3: LLC TOTAL     ACCESS:\n",
    "    elif \"LLC TOTAL     ACCESS\" in line:\n",
    "        start = line.index(\"MISS:\")\n",
    "        lru_entry.append(int(line[start+len(\"MISS:\"):].strip()))\n",
    "        lru_list.append(lru_entry)"
   ]
  },
  {
   "cell_type": "code",
   "execution_count": 22,
   "metadata": {},
   "outputs": [
    {
     "data": {
      "text/plain": [
       "[['GemsFDTD_109B.trace.gz', 0.378918, 250433],\n",
       " ['GemsFDTD_712B.trace.gz', 0.285201, 376741],\n",
       " ['GemsFDTD_716B.trace.gz', 0.504205, 112585],\n",
       " ['astar_163B.trace.gz', 0.449249, 25404],\n",
       " ['astar_23B.trace.gz', 0.347383, 23815],\n",
       " ['astar_313B.trace.gz', 0.103988, 615704],\n",
       " ['bzip2_183B.trace.gz', 0.75565, 23614],\n",
       " ['bzip2_259B.trace.gz', 0.954697, 24482],\n",
       " ['bzip2_281B.trace.gz', 0.688917, 36879],\n",
       " ['cactusADM_1039B.trace.gz', 0.38244, 99137],\n",
       " ['cactusADM_1495B.trace.gz', 0.383184, 98677],\n",
       " ['cactusADM_734B.trace.gz', 0.372392, 99014],\n",
       " ['calculix_2655B.trace.gz', 1.50906, 14393],\n",
       " ['calculix_2670B.trace.gz', 2.08792, 437],\n",
       " ['calculix_3812B.trace.gz', 1.47, 8930],\n",
       " ['gcc_13B.trace.gz', 0.185795, 440202],\n",
       " ['gcc_39B.trace.gz', 0.722275, 2698],\n",
       " ['gcc_56B.trace.gz', 0.737027, 5264],\n",
       " ['lbm_1004B.trace.gz', 0.540134, 295986],\n",
       " ['lbm_564B.trace.gz', 0.538881, 295978],\n",
       " ['lbm_94B.trace.gz', 0.502119, 331597],\n",
       " ['leslie3d_1116B.trace.gz', 0.605714, 162587],\n",
       " ['leslie3d_1186B.trace.gz', 0.484767, 206051],\n",
       " ['leslie3d_94B.trace.gz', 0.486738, 206770],\n",
       " ['libquantum_1210B.trace.gz', 0.313675, 262733],\n",
       " ['libquantum_1735B.trace.gz', 0.355478, 264066],\n",
       " ['libquantum_964B.trace.gz', 0.467654, 276777],\n",
       " ['mcf_158B.trace.gz', 0.0652311, 883149],\n",
       " ['mcf_250B.trace.gz', 0.0701995, 845943],\n",
       " ['mcf_46B.trace.gz', 0.0981909, 697764],\n",
       " ['milc_360B.trace.gz', 0.510759, 155172],\n",
       " ['milc_409B.trace.gz', 0.364294, 374568],\n",
       " ['milc_744B.trace.gz', 0.518496, 140162],\n",
       " ['omnetpp_17B.trace.gz', 0.438361, 90422],\n",
       " ['omnetpp_340B.trace.gz', 0.240887, 159250],\n",
       " ['omnetpp_4B.trace.gz', 0.319239, 75295],\n",
       " ['perlbench_105B.trace.gz', 0.42164, 175],\n",
       " ['perlbench_135B.trace.gz', 0.34843, 17333],\n",
       " ['perlbench_53B.trace.gz', 0.339808, 16637],\n",
       " ['soplex_205B.trace.gz', 0.259337, 377154],\n",
       " ['soplex_217B.trace.gz', 0.261255, 382616],\n",
       " ['soplex_66B.trace.gz', 0.300636, 284609],\n",
       " ['sphinx3_1339B.trace.gz', 0.539436, 121032],\n",
       " ['sphinx3_2520B.trace.gz', 0.570009, 115568],\n",
       " ['sphinx3_883B.trace.gz', 0.461569, 138867],\n",
       " ['wrf_1212B.trace.gz', 0.551302, 8473],\n",
       " ['wrf_1228B.trace.gz', 0.475291, 227154],\n",
       " ['wrf_1650B.trace.gz', 0.614962, 14839],\n",
       " ['zeusmp_100B.trace.gz', 1.0818, 38829],\n",
       " ['zeusmp_300B.trace.gz', 1.07914, 29459],\n",
       " ['zeusmp_600B.trace.gz', 1.14785, 31337]]"
      ]
     },
     "execution_count": 22,
     "metadata": {},
     "output_type": "execute_result"
    }
   ],
   "source": [
    "lru_list.sort()\n",
    "lru_list"
   ]
  },
  {
   "cell_type": "code",
   "execution_count": 20,
   "metadata": {},
   "outputs": [],
   "source": [
    "lru_list"
   ]
  },
  {
   "cell_type": "code",
   "execution_count": 46,
   "metadata": {},
   "outputs": [],
   "source": [
    "def get_result_list(file):\n",
    "    file1 = open(file, 'r')\n",
    "    Lines = file1.readlines()\n",
    "    result_list = []\n",
    "    result_entry = []\n",
    "\n",
    "    for line in Lines:\n",
    "\n",
    "        # Line 1: CPU 0 runs /datasets/cs240c-wi22-a00-public/data/Assignment2-gz/\n",
    "        if \"CPU 0 runs /datasets/cs240c-wi22-a00-public/data/Assignment2-gz/\" in line:\n",
    "            result_entry = []\n",
    "            result_entry.append(line[len(\"CPU 0 runs /datasets/cs240c-wi22-a00-public/data/Assignment2-gz/\"):].strip())\n",
    "        # Line 2: CPU 0 cummulative IPC:\n",
    "        elif \"CPU 0 cummulative IPC:\" in line:\n",
    "            start = len(\"CPU 0 cummulative IPC: \")\n",
    "            result_entry.append(float(line[start:line.index(\" \", start)]))\n",
    "\n",
    "        # Line 3: LLC TOTAL     ACCESS:\n",
    "        elif \"LLC TOTAL     ACCESS\" in line:\n",
    "            start = line.index(\"MISS:\")\n",
    "            result_entry.append(int(line[start+len(\"MISS:\"):].strip()))\n",
    "            \n",
    "        # Line 3: LLC LOAD      ACCESS:\n",
    "        elif \"LLC LOAD      ACCESS\" in line:\n",
    "            start = line.index(\"MISS:\")\n",
    "            result_entry.append(int(line[start+len(\"MISS:\"):].strip()))\n",
    "            result_list.append(result_entry)\n",
    "            \n",
    "    result_list.sort()\n",
    "    return result_list"
   ]
  },
  {
   "cell_type": "code",
   "execution_count": 48,
   "metadata": {},
   "outputs": [
    {
     "data": {
      "text/plain": [
       "[['GemsFDTD_109B.trace.gz', 0.378918, 250433, 250432],\n",
       " ['GemsFDTD_712B.trace.gz', 0.285201, 376741, 376721],\n",
       " ['GemsFDTD_716B.trace.gz', 0.504205, 112585, 98675],\n",
       " ['astar_163B.trace.gz', 0.449249, 25404, 21659],\n",
       " ['astar_23B.trace.gz', 0.347383, 23815, 23814],\n",
       " ['astar_313B.trace.gz', 0.103988, 615704, 231760],\n",
       " ['bzip2_183B.trace.gz', 0.75565, 23614, 14232],\n",
       " ['bzip2_259B.trace.gz', 0.954697, 24482, 3454],\n",
       " ['bzip2_281B.trace.gz', 0.688917, 36879, 19275],\n",
       " ['cactusADM_1039B.trace.gz', 0.38244, 99137, 67745],\n",
       " ['cactusADM_1495B.trace.gz', 0.383184, 98677, 67427],\n",
       " ['cactusADM_734B.trace.gz', 0.372392, 99014, 67772],\n",
       " ['calculix_2655B.trace.gz', 1.50906, 14393, 14389],\n",
       " ['calculix_2670B.trace.gz', 2.08792, 437, 419],\n",
       " ['calculix_3812B.trace.gz', 1.47, 8930, 2886],\n",
       " ['gcc_13B.trace.gz', 0.185795, 440202, 274527],\n",
       " ['gcc_39B.trace.gz', 0.722275, 2698, 2330],\n",
       " ['gcc_56B.trace.gz', 0.737027, 5264, 4334],\n",
       " ['lbm_1004B.trace.gz', 0.540134, 295986, 74000],\n",
       " ['lbm_564B.trace.gz', 0.538881, 295978, 73999],\n",
       " ['lbm_94B.trace.gz', 0.502119, 331597, 82902],\n",
       " ['leslie3d_1116B.trace.gz', 0.605714, 162587, 136356],\n",
       " ['leslie3d_1186B.trace.gz', 0.484767, 206051, 188502],\n",
       " ['leslie3d_94B.trace.gz', 0.486738, 206770, 188508],\n",
       " ['libquantum_1210B.trace.gz', 0.313675, 262733, 262733],\n",
       " ['libquantum_1735B.trace.gz', 0.355478, 264066, 264062],\n",
       " ['libquantum_964B.trace.gz', 0.467654, 276777, 276773],\n",
       " ['mcf_158B.trace.gz', 0.0652311, 883149, 879130],\n",
       " ['mcf_250B.trace.gz', 0.0701995, 845943, 844499],\n",
       " ['mcf_46B.trace.gz', 0.0981909, 697764, 684092],\n",
       " ['milc_360B.trace.gz', 0.510759, 155172, 155172],\n",
       " ['milc_409B.trace.gz', 0.364294, 374568, 243878],\n",
       " ['milc_744B.trace.gz', 0.518496, 140162, 140162],\n",
       " ['omnetpp_17B.trace.gz', 0.438361, 90422, 89420],\n",
       " ['omnetpp_340B.trace.gz', 0.240887, 159250, 136064],\n",
       " ['omnetpp_4B.trace.gz', 0.319239, 75295, 73391],\n",
       " ['perlbench_105B.trace.gz', 0.42164, 175, 126],\n",
       " ['perlbench_135B.trace.gz', 0.34843, 17333, 15384],\n",
       " ['perlbench_53B.trace.gz', 0.339808, 16637, 14804],\n",
       " ['soplex_205B.trace.gz', 0.259337, 377154, 331789],\n",
       " ['soplex_217B.trace.gz', 0.261255, 382616, 332983],\n",
       " ['soplex_66B.trace.gz', 0.300636, 284609, 245073],\n",
       " ['sphinx3_1339B.trace.gz', 0.539436, 121032, 112404],\n",
       " ['sphinx3_2520B.trace.gz', 0.570009, 115568, 107847],\n",
       " ['sphinx3_883B.trace.gz', 0.461569, 138867, 132040],\n",
       " ['wrf_1212B.trace.gz', 0.551302, 8473, 8368],\n",
       " ['wrf_1228B.trace.gz', 0.475291, 227154, 167433],\n",
       " ['wrf_1650B.trace.gz', 0.614962, 14839, 10664],\n",
       " ['zeusmp_100B.trace.gz', 1.0818, 38829, 27800],\n",
       " ['zeusmp_300B.trace.gz', 1.07914, 29459, 19396],\n",
       " ['zeusmp_600B.trace.gz', 1.14785, 31337, 25395]]"
      ]
     },
     "execution_count": 48,
     "metadata": {},
     "output_type": "execute_result"
    }
   ],
   "source": [
    "lru_list = get_result_list(\"lru.txt\")\n",
    "lru_list"
   ]
  },
  {
   "cell_type": "code",
   "execution_count": 47,
   "metadata": {},
   "outputs": [
    {
     "data": {
      "text/plain": [
       "[['GemsFDTD_109B.trace.gz', 0.384967, 351434, 239551],\n",
       " ['GemsFDTD_712B.trace.gz', 0.304375, 454888, 336204],\n",
       " ['GemsFDTD_716B.trace.gz', 0.503576, 113264, 99447],\n",
       " ['astar_163B.trace.gz', 0.449208, 25400, 21654],\n",
       " ['astar_23B.trace.gz', 0.347448, 24167, 23926],\n",
       " ['astar_313B.trace.gz', 0.115074, 664831, 197510],\n",
       " ['bzip2_183B.trace.gz', 0.756073, 23527, 14102],\n",
       " ['bzip2_259B.trace.gz', 0.954548, 24481, 3454],\n",
       " ['bzip2_281B.trace.gz', 0.693193, 35836, 18004],\n",
       " ['cactusADM_1039B.trace.gz', 0.382428, 100381, 67766],\n",
       " ['cactusADM_1495B.trace.gz', 0.383548, 100314, 67196],\n",
       " ['cactusADM_734B.trace.gz', 0.372392, 100626, 67771],\n",
       " ['calculix_2655B.trace.gz', 1.49363, 15295, 15251],\n",
       " ['calculix_2670B.trace.gz', 2.08792, 437, 419],\n",
       " ['calculix_3812B.trace.gz', 1.47, 8930, 2886],\n",
       " ['gcc_13B.trace.gz', 0.194435, 593237, 269008],\n",
       " ['gcc_39B.trace.gz', 0.722275, 2698, 2330],\n",
       " ['gcc_56B.trace.gz', 0.737027, 5264, 4334],\n",
       " ['lbm_1004B.trace.gz', 0.602133, 431705, 73994],\n",
       " ['lbm_564B.trace.gz', 0.599969, 426109, 73996],\n",
       " ['lbm_94B.trace.gz', 0.560519, 497723, 82896],\n",
       " ['leslie3d_1116B.trace.gz', 0.627422, 159641, 118160],\n",
       " ['leslie3d_1186B.trace.gz', 0.511729, 191295, 159274],\n",
       " ['leslie3d_94B.trace.gz', 0.516778, 183536, 158674],\n",
       " ['libquantum_1210B.trace.gz', 0.313567, 262733, 262733],\n",
       " ['libquantum_1735B.trace.gz', 0.378453, 387039, 264062],\n",
       " ['libquantum_964B.trace.gz', 0.468095, 294574, 276773],\n",
       " ['mcf_158B.trace.gz', 0.076282, 712216, 684547],\n",
       " ['mcf_250B.trace.gz', 0.0826277, 685164, 659561],\n",
       " ['mcf_46B.trace.gz', 0.111116, 648000, 551053],\n",
       " ['milc_360B.trace.gz', 0.510338, 155172, 155172],\n",
       " ['milc_409B.trace.gz', 0.375335, 471588, 243854],\n",
       " ['milc_744B.trace.gz', 0.518333, 140162, 140162],\n",
       " ['omnetpp_17B.trace.gz', 0.438489, 90179, 89152],\n",
       " ['omnetpp_340B.trace.gz', 0.237931, 186358, 142580],\n",
       " ['omnetpp_4B.trace.gz', 0.320542, 74330, 71989],\n",
       " ['perlbench_105B.trace.gz', 0.42164, 175, 126],\n",
       " ['perlbench_135B.trace.gz', 0.348494, 17299, 15347],\n",
       " ['perlbench_53B.trace.gz', 0.339986, 16521, 14681],\n",
       " ['soplex_205B.trace.gz', 0.266664, 404861, 313914],\n",
       " ['soplex_217B.trace.gz', 0.27132, 372125, 305775],\n",
       " ['soplex_66B.trace.gz', 0.310679, 291535, 226141],\n",
       " ['sphinx3_1339B.trace.gz', 0.544441, 118589, 110975],\n",
       " ['sphinx3_2520B.trace.gz', 0.575878, 112667, 107071],\n",
       " ['sphinx3_883B.trace.gz', 0.511413, 110465, 104866],\n",
       " ['wrf_1212B.trace.gz', 0.551302, 8473, 8368],\n",
       " ['wrf_1228B.trace.gz', 0.476173, 249475, 167078],\n",
       " ['wrf_1650B.trace.gz', 0.614962, 14839, 10664],\n",
       " ['zeusmp_100B.trace.gz', 1.08154, 38835, 27800],\n",
       " ['zeusmp_300B.trace.gz', 1.07899, 29456, 19387],\n",
       " ['zeusmp_600B.trace.gz', 1.14783, 31338, 25395]]"
      ]
     },
     "execution_count": 47,
     "metadata": {},
     "output_type": "execute_result"
    }
   ],
   "source": [
    "red_list = get_result_list(\"red.txt\")\n",
    "red_list"
   ]
  },
  {
   "cell_type": "code",
   "execution_count": 54,
   "metadata": {},
   "outputs": [],
   "source": [
    "def compare_traces(modify, original, include_load=False):\n",
    "    compare_list = []\n",
    "    for i in range(len(modify)):\n",
    "        compare_index = []\n",
    "        compare_index.append(modify[i][0])\n",
    "        compare_index.append(modify[i][1] / original[i][1])\n",
    "        compare_index.append(modify[i][2] / original[i][2])\n",
    "        if include_load:\n",
    "            compare_index.append(modify[i][3] / original[i][3])\n",
    "        compare_list.append(compare_index)\n",
    "    return compare_list"
   ]
  },
  {
   "cell_type": "code",
   "execution_count": 50,
   "metadata": {},
   "outputs": [
    {
     "data": {
      "text/plain": [
       "[['GemsFDTD_109B.trace.gz', 1.015963876089286, 1.403305474917443],\n",
       " ['GemsFDTD_712B.trace.gz', 1.0672297782967102, 1.2074289764055413],\n",
       " ['GemsFDTD_716B.trace.gz', 0.9987524915460974, 1.006030998800906],\n",
       " ['astar_163B.trace.gz', 0.9999087365803819, 0.999842544481184],\n",
       " ['astar_23B.trace.gz', 1.00018711335903, 1.0147806004618938],\n",
       " ['astar_313B.trace.gz', 1.10660845482171, 1.0797899640086794],\n",
       " ['bzip2_183B.trace.gz', 1.0005597829683053, 0.996315744897095],\n",
       " ['bzip2_259B.trace.gz', 0.9998439295399482, 0.9999591536639163],\n",
       " ['bzip2_281B.trace.gz', 1.0062068434949347, 0.9717183220803167],\n",
       " ['cactusADM_1039B.trace.gz', 0.9999686225290241, 1.0125482917578703],\n",
       " ['cactusADM_1495B.trace.gz', 1.0009499352791347, 1.0165894788045846],\n",
       " ['cactusADM_734B.trace.gz', 1.0, 1.0162805259862242],\n",
       " ['calculix_2655B.trace.gz', 0.9897750917789883, 1.062669353157785],\n",
       " ['calculix_2670B.trace.gz', 1.0, 1.0],\n",
       " ['calculix_3812B.trace.gz', 1.0, 1.0],\n",
       " ['gcc_13B.trace.gz', 1.0465028660620577, 1.3476472165051498],\n",
       " ['gcc_39B.trace.gz', 1.0, 1.0],\n",
       " ['gcc_56B.trace.gz', 1.0, 1.0],\n",
       " ['lbm_1004B.trace.gz', 1.1147844794069621, 1.458531822451062],\n",
       " ['lbm_564B.trace.gz', 1.1133608347668593, 1.439664434518782],\n",
       " ['lbm_94B.trace.gz', 1.1163070905502481, 1.5009876446409347],\n",
       " ['leslie3d_1116B.trace.gz', 1.0358386961503285, 0.9818804701482898],\n",
       " ['leslie3d_1186B.trace.gz', 1.0556184723795143, 0.9283866615546637],\n",
       " ['leslie3d_94B.trace.gz', 1.0617169812096034, 0.8876336025535619],\n",
       " ['libquantum_1210B.trace.gz', 0.9996556945883478, 1.0],\n",
       " ['libquantum_1735B.trace.gz', 1.064631285199084, 1.4656903955829224],\n",
       " ['libquantum_964B.trace.gz', 1.0009430048711225, 1.064300863149756],\n",
       " ['mcf_158B.trace.gz', 1.1694115230311921, 0.8064505536438359],\n",
       " ['mcf_250B.trace.gz', 1.1770411470167166, 0.8099410953220253],\n",
       " ['mcf_46B.trace.gz', 1.1316323610436405, 0.9286807573907511],\n",
       " ['milc_360B.trace.gz', 0.999175736501951, 1.0],\n",
       " ['milc_409B.trace.gz', 1.030307938093957, 1.2590183891843403],\n",
       " ['milc_744B.trace.gz', 0.9996856292044685, 1.0],\n",
       " ['omnetpp_17B.trace.gz', 1.0002919967789106, 0.9973126009157064],\n",
       " ['omnetpp_340B.trace.gz', 0.9877286860644203, 1.1702229199372056],\n",
       " ['omnetpp_4B.trace.gz', 1.0040815815110309, 0.9871837439405007],\n",
       " ['perlbench_105B.trace.gz', 1.0, 1.0],\n",
       " ['perlbench_135B.trace.gz', 1.0001836810837184, 0.9980384238158426],\n",
       " ['perlbench_53B.trace.gz', 1.0005238252189472, 0.9930275891086133],\n",
       " ['soplex_205B.trace.gz', 1.0282528139062301, 1.0734633597946728],\n",
       " ['soplex_217B.trace.gz', 1.0385255784578284, 0.9725808643653167],\n",
       " ['soplex_66B.trace.gz', 1.0334058462725688, 1.0243351404909893],\n",
       " ['sphinx3_1339B.trace.gz', 1.0092782090924595, 0.9798152554696279],\n",
       " ['sphinx3_2520B.trace.gz', 1.01029632865446, 0.9748978956112418],\n",
       " ['sphinx3_883B.trace.gz', 1.1079881881148863, 0.7954733666025766],\n",
       " ['wrf_1212B.trace.gz', 1.0, 1.0],\n",
       " ['wrf_1228B.trace.gz', 1.0018557052416308, 1.0982637329741056],\n",
       " ['wrf_1650B.trace.gz', 1.0, 1.0],\n",
       " ['zeusmp_100B.trace.gz', 0.9997596598262154, 1.000154523680754],\n",
       " ['zeusmp_300B.trace.gz', 0.9998610004262652, 0.9998981635493398],\n",
       " ['zeusmp_600B.trace.gz', 0.9999825761205732, 1.0000319111593323]]"
      ]
     },
     "execution_count": 50,
     "metadata": {},
     "output_type": "execute_result"
    }
   ],
   "source": [
    "compare_list = compare_traces(red_list, lru_list)\n",
    "compare_list"
   ]
  },
  {
   "cell_type": "code",
   "execution_count": 51,
   "metadata": {},
   "outputs": [
    {
     "data": {
      "text/plain": [
       "[['GemsFDTD_109B.trace.gz', 0.386193, 252769, 231071],\n",
       " ['GemsFDTD_712B.trace.gz', 0.316125, 380293, 312184],\n",
       " ['GemsFDTD_716B.trace.gz', 0.504778, 112556, 98691],\n",
       " ['astar_163B.trace.gz', 0.449168, 25398, 21653],\n",
       " ['astar_23B.trace.gz', 0.347489, 23819, 23666],\n",
       " ['astar_313B.trace.gz', 0.110739, 689667, 212561],\n",
       " ['bzip2_183B.trace.gz', 0.75569, 23606, 14196],\n",
       " ['bzip2_259B.trace.gz', 0.954548, 24481, 3454],\n",
       " ['bzip2_281B.trace.gz', 0.690225, 36384, 18642],\n",
       " ['cactusADM_1039B.trace.gz', 0.382424, 98209, 67770],\n",
       " ['cactusADM_1495B.trace.gz', 0.383093, 98833, 67583],\n",
       " ['cactusADM_734B.trace.gz', 0.372331, 99015, 67773],\n",
       " ['calculix_2655B.trace.gz', 1.50851, 14413, 14407],\n",
       " ['calculix_2670B.trace.gz', 2.08792, 437, 419],\n",
       " ['calculix_3812B.trace.gz', 1.47, 8930, 2886],\n",
       " ['gcc_13B.trace.gz', 0.189658, 504788, 273225],\n",
       " ['gcc_39B.trace.gz', 0.722275, 2698, 2330],\n",
       " ['gcc_56B.trace.gz', 0.73587, 7087, 4473],\n",
       " ['lbm_1004B.trace.gz', 0.561909, 358430, 74000],\n",
       " ['lbm_564B.trace.gz', 0.555505, 354172, 73999],\n",
       " ['lbm_94B.trace.gz', 0.529959, 393359, 82905],\n",
       " ['leslie3d_1116B.trace.gz', 0.614432, 154092, 127861],\n",
       " ['leslie3d_1186B.trace.gz', 0.497464, 189126, 172751],\n",
       " ['leslie3d_94B.trace.gz', 0.49865, 185265, 174650],\n",
       " ['libquantum_1210B.trace.gz', 0.318865, 295754, 262733],\n",
       " ['libquantum_1735B.trace.gz', 0.36539, 264225, 264062],\n",
       " ['libquantum_964B.trace.gz', 0.469265, 287790, 276773],\n",
       " ['mcf_158B.trace.gz', 0.0754784, 702649, 697714],\n",
       " ['mcf_250B.trace.gz', 0.0820529, 680902, 667431],\n",
       " ['mcf_46B.trace.gz', 0.106284, 654322, 594763],\n",
       " ['milc_360B.trace.gz', 0.511183, 184768, 155172],\n",
       " ['milc_409B.trace.gz', 0.368337, 422796, 244006],\n",
       " ['milc_744B.trace.gz', 0.516078, 160375, 140162],\n",
       " ['omnetpp_17B.trace.gz', 0.453687, 51963, 50974],\n",
       " ['omnetpp_340B.trace.gz', 0.240671, 159299, 135614],\n",
       " ['omnetpp_4B.trace.gz', 0.323923, 53798, 51487],\n",
       " ['perlbench_105B.trace.gz', 0.42164, 175, 126],\n",
       " ['perlbench_135B.trace.gz', 0.348505, 17309, 15353],\n",
       " ['perlbench_53B.trace.gz', 0.339986, 16534, 14693],\n",
       " ['soplex_205B.trace.gz', 0.270037, 384306, 308026],\n",
       " ['soplex_217B.trace.gz', 0.274313, 356423, 295233],\n",
       " ['soplex_66B.trace.gz', 0.315168, 264217, 217072],\n",
       " ['sphinx3_1339B.trace.gz', 0.589717, 98355, 89210],\n",
       " ['sphinx3_2520B.trace.gz', 0.626826, 91367, 84871],\n",
       " ['sphinx3_883B.trace.gz', 0.476972, 130876, 123464],\n",
       " ['wrf_1212B.trace.gz', 0.551302, 8473, 8368],\n",
       " ['wrf_1228B.trace.gz', 0.473894, 227034, 167323],\n",
       " ['wrf_1650B.trace.gz', 0.614962, 14839, 10664],\n",
       " ['zeusmp_100B.trace.gz', 1.08145, 38844, 27805],\n",
       " ['zeusmp_300B.trace.gz', 1.07913, 29489, 19396],\n",
       " ['zeusmp_600B.trace.gz', 1.14752, 31338, 25395]]"
      ]
     },
     "execution_count": 51,
     "metadata": {},
     "output_type": "execute_result"
    }
   ],
   "source": [
    "lime_list = get_result_list(\"lime.txt\")\n",
    "lime_list"
   ]
  },
  {
   "cell_type": "code",
   "execution_count": 55,
   "metadata": {},
   "outputs": [],
   "source": [
    "compare_list = compare_traces(lime_list, lru_list, True)"
   ]
  },
  {
   "cell_type": "code",
   "execution_count": 56,
   "metadata": {
    "scrolled": false
   },
   "outputs": [
    {
     "data": {
      "text/plain": [
       "[['GemsFDTD_109B.trace.gz',\n",
       "  1.0191994046205248,\n",
       "  1.0093278441738909,\n",
       "  0.9226895923843599],\n",
       " ['GemsFDTD_712B.trace.gz',\n",
       "  1.1084287923254126,\n",
       "  1.0094282278806925,\n",
       "  0.828687543301276],\n",
       " ['GemsFDTD_716B.trace.gz',\n",
       "  1.00113644251842,\n",
       "  0.9997424168406093,\n",
       "  1.0001621484671903],\n",
       " ['astar_163B.trace.gz',\n",
       "  0.9998196990978278,\n",
       "  0.999763816721776,\n",
       "  0.9997229789002262],\n",
       " ['astar_23B.trace.gz',\n",
       "  1.0003051387085724,\n",
       "  1.0001679613688852,\n",
       "  0.993785168388343],\n",
       " ['astar_313B.trace.gz',\n",
       "  1.0649209524175867,\n",
       "  1.1201275288125463,\n",
       "  0.9171599930963065],\n",
       " ['bzip2_183B.trace.gz',\n",
       "  1.0000529345596505,\n",
       "  0.9996612179215719,\n",
       "  0.9974704890387859],\n",
       " ['bzip2_259B.trace.gz', 0.9998439295399482, 0.9999591536639163, 1.0],\n",
       " ['bzip2_281B.trace.gz',\n",
       "  1.0018986322009762,\n",
       "  0.9865777271617994,\n",
       "  0.96715953307393],\n",
       " ['cactusADM_1039B.trace.gz',\n",
       "  0.9999581633720321,\n",
       "  0.9906392164378587,\n",
       "  1.0003690309247915],\n",
       " ['cactusADM_1495B.trace.gz',\n",
       "  0.9997625161802163,\n",
       "  1.0015809155122268,\n",
       "  1.0023136132409864],\n",
       " ['cactusADM_734B.trace.gz',\n",
       "  0.9998361941180263,\n",
       "  1.0000100995818773,\n",
       "  1.0000147553561942],\n",
       " ['calculix_2655B.trace.gz',\n",
       "  0.9996355347037228,\n",
       "  1.0013895643715696,\n",
       "  1.0012509555910765],\n",
       " ['calculix_2670B.trace.gz', 1.0, 1.0, 1.0],\n",
       " ['calculix_3812B.trace.gz', 1.0, 1.0, 1.0],\n",
       " ['gcc_13B.trace.gz',\n",
       "  1.0207917328238112,\n",
       "  1.1467190062743922,\n",
       "  0.9952572970964605],\n",
       " ['gcc_39B.trace.gz', 1.0, 1.0, 1.0],\n",
       " ['gcc_56B.trace.gz',\n",
       "  0.9984301796270694,\n",
       "  1.3463145896656534,\n",
       "  1.0320719889247807],\n",
       " ['lbm_1004B.trace.gz', 1.0403140702122067, 1.210969437743677, 1.0],\n",
       " ['lbm_564B.trace.gz', 1.0308491113993627, 1.1966159647000791, 1.0],\n",
       " ['lbm_94B.trace.gz',\n",
       "  1.0554450239883373,\n",
       "  1.1862562085905481,\n",
       "  1.0000361873054933],\n",
       " ['leslie3d_1116B.trace.gz',\n",
       "  1.0143929313174205,\n",
       "  0.9477510502069662,\n",
       "  0.9376998445246267],\n",
       " ['leslie3d_1186B.trace.gz',\n",
       "  1.0261919643870148,\n",
       "  0.9178601414212986,\n",
       "  0.9164412048678529],\n",
       " ['leslie3d_94B.trace.gz',\n",
       "  1.0244731251720638,\n",
       "  0.8959955506117909,\n",
       "  0.9264858785834023],\n",
       " ['libquantum_1210B.trace.gz', 1.0165457878377302, 1.1256827273315495, 1.0],\n",
       " ['libquantum_1735B.trace.gz', 1.0278835821063468, 1.0006021221967236, 1.0],\n",
       " ['libquantum_964B.trace.gz', 1.0034448545292032, 1.0397901559739429, 1.0],\n",
       " ['mcf_158B.trace.gz',\n",
       "  1.1570922458765833,\n",
       "  0.7956177270200159,\n",
       "  0.79364144097005],\n",
       " ['mcf_250B.trace.gz',\n",
       "  1.1688530545089353,\n",
       "  0.8049029308121233,\n",
       "  0.7903277564567868],\n",
       " ['mcf_46B.trace.gz',\n",
       "  1.0824220981781407,\n",
       "  0.9377411273725786,\n",
       "  0.8694196102278641],\n",
       " ['milc_360B.trace.gz', 1.0008301371096742, 1.1907302863918747, 1.0],\n",
       " ['milc_409B.trace.gz',\n",
       "  1.011098178943381,\n",
       "  1.128756327289037,\n",
       "  1.0005248525902295],\n",
       " ['milc_744B.trace.gz', 0.9953365117570822, 1.1442116978924388, 1.0],\n",
       " ['omnetpp_17B.trace.gz',\n",
       "  1.034962051824866,\n",
       "  0.5746720930746942,\n",
       "  0.5700514426302841],\n",
       " ['omnetpp_340B.trace.gz',\n",
       "  0.9991033140020009,\n",
       "  1.0003076923076923,\n",
       "  0.9966927328316086],\n",
       " ['omnetpp_4B.trace.gz',\n",
       "  1.0146723927840897,\n",
       "  0.7144963144963145,\n",
       "  0.7015437860228093],\n",
       " ['perlbench_105B.trace.gz', 1.0, 1.0, 1.0],\n",
       " ['perlbench_135B.trace.gz',\n",
       "  1.0002152512699825,\n",
       "  0.9986153579876537,\n",
       "  0.9979849193967759],\n",
       " ['perlbench_53B.trace.gz',\n",
       "  1.0005238252189472,\n",
       "  0.9938089799843722,\n",
       "  0.99250202647933],\n",
       " ['soplex_205B.trace.gz',\n",
       "  1.0412590567485551,\n",
       "  1.0189630760909336,\n",
       "  0.9283791807443887],\n",
       " ['soplex_217B.trace.gz',\n",
       "  1.0499818185297887,\n",
       "  0.931542329646434,\n",
       "  0.8866308490223225],\n",
       " ['soplex_66B.trace.gz',\n",
       "  1.0483375244481699,\n",
       "  0.9283508251671592,\n",
       "  0.8857442476323382],\n",
       " ['sphinx3_1339B.trace.gz',\n",
       "  1.093210315959632,\n",
       "  0.812636327582788,\n",
       "  0.7936550300701043],\n",
       " ['sphinx3_2520B.trace.gz',\n",
       "  1.099677373515155,\n",
       "  0.790590820988509,\n",
       "  0.7869574489786457],\n",
       " ['sphinx3_883B.trace.gz',\n",
       "  1.0333709586215711,\n",
       "  0.9424557310232092,\n",
       "  0.9350499848530748],\n",
       " ['wrf_1212B.trace.gz', 1.0, 1.0, 1.0],\n",
       " ['wrf_1228B.trace.gz',\n",
       "  0.9970607480469859,\n",
       "  0.9994717240286326,\n",
       "  0.9993430207904057],\n",
       " ['wrf_1650B.trace.gz', 1.0, 1.0, 1.0],\n",
       " ['zeusmp_100B.trace.gz',\n",
       "  0.9996764651506748,\n",
       "  1.0003863092018852,\n",
       "  1.0001798561151078],\n",
       " ['zeusmp_300B.trace.gz', 0.9999907333617509, 1.0010183645066024, 1.0],\n",
       " ['zeusmp_600B.trace.gz', 0.9997125059894586, 1.0000319111593323, 1.0]]"
      ]
     },
     "execution_count": 56,
     "metadata": {},
     "output_type": "execute_result"
    }
   ],
   "source": [
    "compare_list"
   ]
  },
  {
   "cell_type": "code",
   "execution_count": 72,
   "metadata": {},
   "outputs": [],
   "source": [
    "def get_result5_list(file):\n",
    "    file1 = open(file, 'r')\n",
    "    Lines = file1.readlines()\n",
    "    ipc_list = []\n",
    "    totalmiss_list = []\n",
    "    loadmiss_list = []\n",
    "\n",
    "    for line in Lines:\n",
    "\n",
    "        # Line 1: CPU 0 cummulative IPC:\n",
    "        if \"CPU 0 cummulative IPC:\" in line:\n",
    "            start = len(\"CPU 0 cummulative IPC: \")\n",
    "            ipc_list.append(float(line[start:line.index(\" \", start)]))\n",
    "\n",
    "        # Line 2: LLC TOTAL     ACCESS:\n",
    "        elif \"LLC TOTAL     ACCESS\" in line:\n",
    "            start = line.index(\"MISS:\")\n",
    "            totalmiss_list.append(int(line[start+len(\"MISS:\"):].strip()))\n",
    "            \n",
    "        # Line 3: LLC LOAD      ACCESS:\n",
    "        elif \"LLC LOAD      ACCESS\" in line:\n",
    "            start = line.index(\"MISS:\")\n",
    "            loadmiss_list.append(int(line[start+len(\"MISS:\"):].strip()))\n",
    "\n",
    "    ipc_list.sort()\n",
    "    totalmiss_list.sort()\n",
    "    loadmiss_list.sort()\n",
    "    return ipc_list, totalmiss_list, loadmiss_list"
   ]
  },
  {
   "cell_type": "code",
   "execution_count": 73,
   "metadata": {},
   "outputs": [],
   "source": [
    "lru_ipc, lru_totalmiss, lru_loadmiss = get_result5_list(\"lru_5.txt\")"
   ]
  },
  {
   "cell_type": "code",
   "execution_count": 74,
   "metadata": {},
   "outputs": [
    {
     "data": {
      "text/plain": [
       "[0.068635,\n",
       " 0.0739919,\n",
       " 0.100211,\n",
       " 0.113318,\n",
       " 0.195052,\n",
       " 0.236606,\n",
       " 0.265646,\n",
       " 0.266841,\n",
       " 0.28428,\n",
       " 0.292559,\n",
       " 0.294091,\n",
       " 0.33859,\n",
       " 0.355005,\n",
       " 0.362965,\n",
       " 0.365394,\n",
       " 0.385402,\n",
       " 0.389503,\n",
       " 0.396326,\n",
       " 0.398113,\n",
       " 0.399565,\n",
       " 0.405304,\n",
       " 0.424207,\n",
       " 0.433056,\n",
       " 0.433723,\n",
       " 0.451376,\n",
       " 0.456922,\n",
       " 0.46218,\n",
       " 0.477497,\n",
       " 0.477841,\n",
       " 0.482009,\n",
       " 0.482838,\n",
       " 0.506287,\n",
       " 0.509649,\n",
       " 0.512555,\n",
       " 0.539644,\n",
       " 0.552737,\n",
       " 0.561309,\n",
       " 0.574927,\n",
       " 0.579174,\n",
       " 0.688943,\n",
       " 0.723051,\n",
       " 0.733178,\n",
       " 0.750367,\n",
       " 0.807505,\n",
       " 0.828037,\n",
       " 1.04346,\n",
       " 1.08117,\n",
       " 1.12834,\n",
       " 1.47815,\n",
       " 1.56431,\n",
       " 2.06948]"
      ]
     },
     "execution_count": 74,
     "metadata": {},
     "output_type": "execute_result"
    }
   ],
   "source": [
    "lru_ipc"
   ]
  },
  {
   "cell_type": "code",
   "execution_count": 75,
   "metadata": {},
   "outputs": [],
   "source": [
    "red_ipc, red_totalmiss, red_loadmiss = get_result5_list(\"red_5.txt\")"
   ]
  },
  {
   "cell_type": "code",
   "execution_count": 76,
   "metadata": {},
   "outputs": [
    {
     "data": {
      "text/plain": [
       "[0.0824467,\n",
       " 0.0874164,\n",
       " 0.11648,\n",
       " 0.127558,\n",
       " 0.209419,\n",
       " 0.235097,\n",
       " 0.278496,\n",
       " 0.287768,\n",
       " 0.292401,\n",
       " 0.308691,\n",
       " 0.310856,\n",
       " 0.338601,\n",
       " 0.359085,\n",
       " 0.363679,\n",
       " 0.385398,\n",
       " 0.388984,\n",
       " 0.396326,\n",
       " 0.404197,\n",
       " 0.405856,\n",
       " 0.414932,\n",
       " 0.415813,\n",
       " 0.430911,\n",
       " 0.434258,\n",
       " 0.457096,\n",
       " 0.458681,\n",
       " 0.464457,\n",
       " 0.480871,\n",
       " 0.481375,\n",
       " 0.502486,\n",
       " 0.511665,\n",
       " 0.525319,\n",
       " 0.530365,\n",
       " 0.55267,\n",
       " 0.557137,\n",
       " 0.560385,\n",
       " 0.574534,\n",
       " 0.587867,\n",
       " 0.592204,\n",
       " 0.603553,\n",
       " 0.701363,\n",
       " 0.723051,\n",
       " 0.733162,\n",
       " 0.757643,\n",
       " 0.810887,\n",
       " 0.835347,\n",
       " 1.04655,\n",
       " 1.07902,\n",
       " 1.12555,\n",
       " 1.47406,\n",
       " 1.53998,\n",
       " 2.06948]"
      ]
     },
     "execution_count": 76,
     "metadata": {},
     "output_type": "execute_result"
    }
   ],
   "source": [
    "red_ipc"
   ]
  },
  {
   "cell_type": "code",
   "execution_count": 64,
   "metadata": {},
   "outputs": [],
   "source": [
    "import numpy as np"
   ]
  },
  {
   "cell_type": "code",
   "execution_count": 66,
   "metadata": {},
   "outputs": [
    {
     "data": {
      "text/plain": [
       "array([0.98444682, 0.99362231, 0.99723303, 0.99752734, 0.99801141,\n",
       "       0.99997818, 1.        , 1.        , 1.00003249, 1.00196713,\n",
       "       1.00277562, 1.0029613 , 1.00418821, 1.00812152, 1.00882811,\n",
       "       1.00929419, 1.00969659, 1.0114928 , 1.01580361, 1.01618385,\n",
       "       1.01649078, 1.01751719, 1.01802762, 1.01944925, 1.01985991,\n",
       "       1.02592869, 1.02856691, 1.03005077, 1.0384346 , 1.03845932,\n",
       "       1.03943467, 1.04044095, 1.0420927 , 1.0473144 , 1.04755801,\n",
       "       1.04837265, 1.05157573, 1.05388923, 1.05474638, 1.05514101,\n",
       "       1.05700616, 1.06152582, 1.07365728, 1.07842498, 1.084413  ,\n",
       "       1.08697993, 1.08798189, 1.12566406, 1.16234745, 1.18143202,\n",
       "       1.20123406])"
      ]
     },
     "execution_count": 66,
     "metadata": {},
     "output_type": "execute_result"
    }
   ],
   "source": [
    "np.sort(np.array(red_ipc) / np.array(lru_ipc))"
   ]
  },
  {
   "cell_type": "code",
   "execution_count": 77,
   "metadata": {},
   "outputs": [],
   "source": [
    "lime_ipc, lime_totalmiss, lime_loadmiss = get_result5_list(\"lime_5.txt\")"
   ]
  },
  {
   "cell_type": "code",
   "execution_count": 78,
   "metadata": {},
   "outputs": [
    {
     "data": {
      "text/plain": [
       "[0.081479,\n",
       " 0.0836181,\n",
       " 0.11265,\n",
       " 0.125701,\n",
       " 0.198936,\n",
       " 0.236553,\n",
       " 0.281069,\n",
       " 0.290698,\n",
       " 0.291154,\n",
       " 0.315718,\n",
       " 0.326265,\n",
       " 0.35471,\n",
       " 0.361429,\n",
       " 0.36199,\n",
       " 0.385511,\n",
       " 0.394065,\n",
       " 0.396326,\n",
       " 0.396997,\n",
       " 0.405929,\n",
       " 0.40731,\n",
       " 0.409852,\n",
       " 0.433436,\n",
       " 0.436951,\n",
       " 0.452888,\n",
       " 0.454399,\n",
       " 0.456435,\n",
       " 0.482776,\n",
       " 0.496764,\n",
       " 0.50984,\n",
       " 0.512035,\n",
       " 0.528375,\n",
       " 0.532134,\n",
       " 0.550683,\n",
       " 0.552678,\n",
       " 0.574534,\n",
       " 0.577067,\n",
       " 0.588322,\n",
       " 0.619617,\n",
       " 0.715288,\n",
       " 0.723051,\n",
       " 0.729308,\n",
       " 0.7547,\n",
       " 0.807216,\n",
       " 0.834053,\n",
       " 0.903466,\n",
       " 1.04246,\n",
       " 1.07816,\n",
       " 1.12837,\n",
       " 1.4749,\n",
       " 1.53315,\n",
       " 2.06948]"
      ]
     },
     "execution_count": 78,
     "metadata": {},
     "output_type": "execute_result"
    }
   ],
   "source": [
    "lime_ipc"
   ]
  },
  {
   "cell_type": "code",
   "execution_count": 79,
   "metadata": {},
   "outputs": [
    {
     "data": {
      "text/plain": [
       "array([1.18713484, 1.13009802, 1.12412809, 1.10927655, 1.01991264,\n",
       "       0.999776  , 1.05805847, 1.0894053 , 1.02418039, 1.0791601 ,\n",
       "       1.10940151, 1.0476092 , 1.01809552, 0.99731379, 1.05505564,\n",
       "       1.02247783, 1.01751719, 1.00169305, 1.01963262, 1.01938358,\n",
       "       1.01122121, 1.02175589, 1.00899422, 1.04418719, 1.0066973 ,\n",
       "       0.99893417, 1.04456272, 1.04034999, 1.06696579, 1.06229344,\n",
       "       1.09431114, 1.05105207, 1.08051424, 1.07828038, 1.06465373,\n",
       "       1.04401732, 1.04812501, 1.07773161, 1.235014  , 1.04950772,\n",
       "       1.00865361, 1.0293544 , 1.07576159, 1.03287658, 1.09109376,\n",
       "       0.99904165, 0.99721598, 1.00002659, 0.99780131, 0.98008067,\n",
       "       1.        ])"
      ]
     },
     "execution_count": 79,
     "metadata": {},
     "output_type": "execute_result"
    }
   ],
   "source": [
    "np.array(lime_ipc) / np.array(lru_ipc)"
   ]
  },
  {
   "cell_type": "code",
   "execution_count": 80,
   "metadata": {},
   "outputs": [],
   "source": [
    "import matplotlib.pyplot as plt"
   ]
  },
  {
   "cell_type": "code",
   "execution_count": 85,
   "metadata": {},
   "outputs": [
    {
     "data": {
      "text/plain": [
       "[0,\n",
       " 1,\n",
       " 2,\n",
       " 3,\n",
       " 4,\n",
       " 5,\n",
       " 6,\n",
       " 7,\n",
       " 8,\n",
       " 9,\n",
       " 10,\n",
       " 11,\n",
       " 12,\n",
       " 13,\n",
       " 14,\n",
       " 15,\n",
       " 16,\n",
       " 17,\n",
       " 18,\n",
       " 19,\n",
       " 20,\n",
       " 21,\n",
       " 22,\n",
       " 23,\n",
       " 24,\n",
       " 25,\n",
       " 26,\n",
       " 27,\n",
       " 28,\n",
       " 29,\n",
       " 30,\n",
       " 31,\n",
       " 32,\n",
       " 33,\n",
       " 34,\n",
       " 35,\n",
       " 36,\n",
       " 37,\n",
       " 38,\n",
       " 39,\n",
       " 40,\n",
       " 41,\n",
       " 42,\n",
       " 43,\n",
       " 44,\n",
       " 45,\n",
       " 46,\n",
       " 47,\n",
       " 48,\n",
       " 49,\n",
       " 50]"
      ]
     },
     "execution_count": 85,
     "metadata": {},
     "output_type": "execute_result"
    }
   ],
   "source": [
    "x = list(range(51))\n",
    "x"
   ]
  },
  {
   "cell_type": "code",
   "execution_count": 88,
   "metadata": {},
   "outputs": [
    {
     "data": {
      "image/png": "[encoded data removed]",
      "text/plain": [
       "<Figure size 432x288 with 1 Axes>"
      ]
     },
     "metadata": {
      "needs_background": "light"
     },
     "output_type": "display_data"
    }
   ],
   "source": [
    "plt.plot(x,lru_ipc, label=\"lru\")\n",
    "plt.plot(x,red_ipc, label=\"red\")\n",
    "plt.title('red vs lru')\n",
    "plt.xlabel('')\n",
    "plt.ylabel('ipc')\n",
    "plt.legend()\n",
    "plt.show()"
   ]
  },
  {
   "cell_type": "code",
   "execution_count": 133,
   "metadata": {},
   "outputs": [
    {
     "data": {
      "image/png": "[encoded data removed]",
      "text/plain": [
       "<Figure size 432x288 with 1 Axes>"
      ]
     },
     "metadata": {
      "needs_background": "light"
     },
     "output_type": "display_data"
    }
   ],
   "source": [
    "plt.plot(x,np.sort(np.array(red_ipc) / np.array(lru_ipc)))\n",
    "plt.plot(x,[1]*51)\n",
    "plt.title('red vs lru ipc')\n",
    "plt.xlabel('')\n",
    "plt.ylabel('speedup')\n",
    "plt.show()"
   ]
  },
  {
   "cell_type": "code",
   "execution_count": 126,
   "metadata": {},
   "outputs": [
    {
     "data": {
      "text/plain": [
       "array([0.98444682, 0.99362231, 0.99723303, 0.99752734, 0.99801141,\n",
       "       0.99997818, 1.        , 1.        , 1.00003249, 1.00196713,\n",
       "       1.00277562, 1.0029613 , 1.00418821, 1.00812152, 1.00882811,\n",
       "       1.00929419, 1.00969659, 1.0114928 , 1.01580361, 1.01618385,\n",
       "       1.01649078, 1.01751719, 1.01802762, 1.01944925, 1.01985991,\n",
       "       1.02592869, 1.02856691, 1.03005077, 1.0384346 , 1.03845932,\n",
       "       1.03943467, 1.04044095, 1.0420927 , 1.0473144 , 1.04755801,\n",
       "       1.04837265, 1.05157573, 1.05388923, 1.05474638, 1.05514101,\n",
       "       1.05700616, 1.06152582, 1.07365728, 1.07842498, 1.084413  ,\n",
       "       1.08697993, 1.08798189, 1.12566406, 1.16234745, 1.18143202,\n",
       "       1.20123406])"
      ]
     },
     "execution_count": 126,
     "metadata": {},
     "output_type": "execute_result"
    }
   ],
   "source": [
    "np.sort(np.array(red_ipc) / np.array(lru_ipc))"
   ]
  },
  {
   "cell_type": "code",
   "execution_count": 91,
   "metadata": {},
   "outputs": [
    {
     "data": {
      "image/png": "[encoded data removed]",
      "text/plain": [
       "<Figure size 432x288 with 1 Axes>"
      ]
     },
     "metadata": {
      "needs_background": "light"
     },
     "output_type": "display_data"
    }
   ],
   "source": [
    "plt.plot(x,lru_ipc)\n",
    "plt.plot(x,lime_ipc)\n",
    "plt.title('lime vs lru')\n",
    "plt.xlabel('')\n",
    "plt.ylabel('ipc')\n",
    "plt.show()"
   ]
  },
  {
   "cell_type": "code",
   "execution_count": 134,
   "metadata": {},
   "outputs": [
    {
     "data": {
      "image/png": "[encoded data removed]",
      "text/plain": [
       "<Figure size 432x288 with 1 Axes>"
      ]
     },
     "metadata": {
      "needs_background": "light"
     },
     "output_type": "display_data"
    }
   ],
   "source": [
    "plt.plot(x,np.sort(np.array(lime_ipc) / np.array(lru_ipc)))\n",
    "plt.plot(x,[1]*51)\n",
    "plt.title('lime vs lru ipc')\n",
    "plt.xlabel('')\n",
    "plt.ylabel('speedup')\n",
    "plt.show()"
   ]
  },
  {
   "cell_type": "code",
   "execution_count": 135,
   "metadata": {},
   "outputs": [
    {
     "data": {
      "image/png": "[encoded data removed]",
      "text/plain": [
       "<Figure size 432x288 with 1 Axes>"
      ]
     },
     "metadata": {
      "needs_background": "light"
     },
     "output_type": "display_data"
    }
   ],
   "source": [
    "plt.plot(x,np.sort(np.array(lime_totalmiss) / np.array(lru_totalmiss)), label=\"total miss\")\n",
    "plt.plot(x,np.sort(np.array(lime_loadmiss) / np.array(lru_loadmiss)), label=\"load miss\")\n",
    "plt.plot(x,[1]*51)\n",
    "plt.title('lime vs lru misses')\n",
    "plt.xlabel('')\n",
    "plt.ylabel('miss % change')\n",
    "plt.legend()\n",
    "plt.show()"
   ]
  },
  {
   "cell_type": "code",
   "execution_count": 127,
   "metadata": {},
   "outputs": [
    {
     "data": {
      "text/plain": [
       "array([0.98008067, 0.99721598, 0.99731379, 0.99780131, 0.99893417,\n",
       "       0.99904165, 0.999776  , 1.        , 1.00002659, 1.00169305,\n",
       "       1.0066973 , 1.00865361, 1.00899422, 1.01122121, 1.01751719,\n",
       "       1.01809552, 1.01938358, 1.01963262, 1.01991264, 1.02175589,\n",
       "       1.02247783, 1.02418039, 1.0293544 , 1.03287658, 1.04034999,\n",
       "       1.04401732, 1.04418719, 1.04456272, 1.0476092 , 1.04812501,\n",
       "       1.04950772, 1.05105207, 1.05505564, 1.05805847, 1.06229344,\n",
       "       1.06465373, 1.06696579, 1.07576159, 1.07773161, 1.07828038,\n",
       "       1.0791601 , 1.08051424, 1.0894053 , 1.09109376, 1.09431114,\n",
       "       1.10927655, 1.10940151, 1.12412809, 1.13009802, 1.18713484,\n",
       "       1.235014  ])"
      ]
     },
     "execution_count": 127,
     "metadata": {},
     "output_type": "execute_result"
    }
   ],
   "source": [
    "np.sort(np.array(lime_ipc) / np.array(lru_ipc))"
   ]
  },
  {
   "cell_type": "markdown",
   "metadata": {},
   "source": [
    "# Constant changes"
   ]
  },
  {
   "cell_type": "code",
   "execution_count": 141,
   "metadata": {},
   "outputs": [],
   "source": [
    "def compare_traces_sort(file1, file2, title):\n",
    "    file1_ipc, file1_totalmiss, file1_loadmiss = get_result5_list(file1)\n",
    "    file2_ipc, file2_totalmiss, file2_loadmiss = get_result5_list(file2)\n",
    "    x = list(range(51))\n",
    "    plt.plot(x,np.sort(np.array(file1_ipc) / np.array(file2_ipc)))\n",
    "    plt.plot(x,[1]*51)\n",
    "    plt.title(title)\n",
    "    plt.xlabel('')\n",
    "    plt.ylabel('speedup')\n",
    "    plt.show()"
   ]
  },
  {
   "cell_type": "code",
   "execution_count": 139,
   "metadata": {},
   "outputs": [],
   "source": [
    "def compare_traces(file1, file2, title):\n",
    "    file1_ipc, file1_totalmiss, file1_loadmiss = get_result5_list(file1)\n",
    "    file2_ipc, file2_totalmiss, file2_loadmiss = get_result5_list(file2)\n",
    "    x = list(range(51))\n",
    "    plt.plot(x,np.array(file1_ipc) / np.array(file2_ipc))\n",
    "    plt.plot(x,[1]*51)\n",
    "    plt.title(title)\n",
    "    plt.xlabel('')\n",
    "    plt.ylabel('speedup')\n",
    "    plt.show()\n",
    "#     print(file1_ipc)\n",
    "#     print(file2_ipc)"
   ]
  },
  {
   "cell_type": "markdown",
   "metadata": {},
   "source": [
    "## red constants"
   ]
  },
  {
   "cell_type": "code",
   "execution_count": 142,
   "metadata": {},
   "outputs": [
    {
     "data": {
      "image/png": "[encoded data removed]",
      "text/plain": [
       "<Figure size 432x288 with 1 Axes>"
      ]
     },
     "metadata": {
      "needs_background": "light"
     },
     "output_type": "display_data"
    }
   ],
   "source": [
    "# compare_traces(\"red_counter.txt\", \"red_5.txt\")\n",
    "compare_traces_sort(\"red_counter.txt\", \"red_5.txt\", \"red with increased counter vs red\")"
   ]
  },
  {
   "cell_type": "code",
   "execution_count": 143,
   "metadata": {},
   "outputs": [
    {
     "data": {
      "image/png": "[encoded data removed]",
      "text/plain": [
       "<Figure size 432x288 with 1 Axes>"
      ]
     },
     "metadata": {
      "needs_background": "light"
     },
     "output_type": "display_data"
    }
   ],
   "source": [
    "# compare_traces(\"red_sets.txt\", \"red_5.txt\")\n",
    "compare_traces_sort(\"red_sets.txt\", \"red_5.txt\", \"red with increased sets vs red\")"
   ]
  },
  {
   "cell_type": "markdown",
   "metadata": {},
   "source": [
    "## lime constants"
   ]
  },
  {
   "cell_type": "code",
   "execution_count": 159,
   "metadata": {},
   "outputs": [
    {
     "data": {
      "image/png": "[encoded data removed]",
      "text/plain": [
       "<Figure size 432x288 with 1 Axes>"
      ]
     },
     "metadata": {
      "needs_background": "light"
     },
     "output_type": "display_data"
    }
   ],
   "source": [
    "# compare_traces(\"lime_histlen.txt\", \"lime_5.txt\")\n",
    "compare_traces_sort(\"lime_histlen.txt\", \"lime_5.txt\", \"lime with increased history length vs lime\")"
   ]
  },
  {
   "cell_type": "code",
   "execution_count": 160,
   "metadata": {},
   "outputs": [
    {
     "data": {
      "image/png": "[encoded data removed]",
      "text/plain": [
       "<Figure size 432x288 with 1 Axes>"
      ]
     },
     "metadata": {
      "needs_background": "light"
     },
     "output_type": "display_data"
    }
   ],
   "source": [
    "# compare_traces(\"lime_trainer.txt\", \"lime_5.txt\")\n",
    "compare_traces_sort(\"lime_trainer.txt\", \"lime_5.txt\", \"lime with increased trainers vs lime\")"
   ]
  },
  {
   "cell_type": "markdown",
   "metadata": {},
   "source": [
    "# Budget changes"
   ]
  },
  {
   "cell_type": "code",
   "execution_count": 157,
   "metadata": {},
   "outputs": [
    {
     "data": {
      "image/png": "[encoded data removed]",
      "text/plain": [
       "<Figure size 432x288 with 1 Axes>"
      ]
     },
     "metadata": {
      "needs_background": "light"
     },
     "output_type": "display_data"
    }
   ],
   "source": [
    "# compare_traces(\"lime_20kb.txt\", \"lime_5.txt\")\n",
    "compare_traces_sort(\"lime_20kb.txt\", \"lime_5.txt\", \"20 KB vs 32 KB lime\")"
   ]
  },
  {
   "cell_type": "code",
   "execution_count": 158,
   "metadata": {},
   "outputs": [
    {
     "data": {
      "image/png": "[encoded data removed]",
      "text/plain": [
       "<Figure size 432x288 with 1 Axes>"
      ]
     },
     "metadata": {
      "needs_background": "light"
     },
     "output_type": "display_data"
    }
   ],
   "source": [
    "compare_traces_sort(\"lime_20kb.txt\", \"lru_5.txt\", \"20 KB lime vs 32 KB lru\")"
   ]
  },
  {
   "cell_type": "code",
   "execution_count": 155,
   "metadata": {},
   "outputs": [
    {
     "data": {
      "image/png": "[encoded data removed]",
      "text/plain": [
       "<Figure size 432x288 with 1 Axes>"
      ]
     },
     "metadata": {
      "needs_background": "light"
     },
     "output_type": "display_data"
    }
   ],
   "source": [
    "# compare_traces(\"lime_60kb.txt\", \"lime_5.txt\")\n",
    "compare_traces_sort(\"lime_60kb.txt\", \"lime_5.txt\", \"60 KB vs 32 KB lime\")"
   ]
  },
  {
   "cell_type": "code",
   "execution_count": 162,
   "metadata": {},
   "outputs": [
    {
     "data": {
      "image/png": "[encoded data removed]",
      "text/plain": [
       "<Figure size 432x288 with 1 Axes>"
      ]
     },
     "metadata": {
      "needs_background": "light"
     },
     "output_type": "display_data"
    }
   ],
   "source": [
    "compare_traces_sort(\"lime_20v2.txt\", \"lime_5.txt\", \"20 KB lime vs 32 KB lru\")"
   ]
  },
  {
   "cell_type": "code",
   "execution_count": 165,
   "metadata": {},
   "outputs": [
    {
     "data": {
      "image/png": "[encoded data removed]",
      "text/plain": [
       "<Figure size 432x288 with 1 Axes>"
      ]
     },
     "metadata": {
      "needs_background": "light"
     },
     "output_type": "display_data"
    }
   ],
   "source": [
    "compare_traces_sort(\"lime_60v2.txt\", \"lime_5.txt\", \"60 KB lime vs 32 KB lru\")"
   ]
  },
  {
   "cell_type": "code",
   "execution_count": 152,
   "metadata": {},
   "outputs": [
    {
     "data": {
      "image/png": "[encoded data removed]",
      "text/plain": [
       "<Figure size 432x288 with 1 Axes>"
      ]
     },
     "metadata": {
      "needs_background": "light"
     },
     "output_type": "display_data"
    }
   ],
   "source": [
    "compare_traces_sort(\"red_20kb.txt\", \"red_5.txt\", \"20 KB vs 32 KB red\")"
   ]
  },
  {
   "cell_type": "code",
   "execution_count": 153,
   "metadata": {},
   "outputs": [
    {
     "data": {
      "image/png": "[encoded data removed]",
      "text/plain": [
       "<Figure size 432x288 with 1 Axes>"
      ]
     },
     "metadata": {
      "needs_background": "light"
     },
     "output_type": "display_data"
    }
   ],
   "source": [
    "compare_traces_sort(\"red_60kb.txt\", \"red_5.txt\", \"60 KB vs 32 KB red\")"
   ]
  },
  {
   "cell_type": "code",
   "execution_count": null,
   "metadata": {},
   "outputs": [],
   "source": []
  }
 ],
 "metadata": {
  "kernelspec": {
   "display_name": "Python 3",
   "language": "python",
   "name": "python3"
  },
  "language_info": {
   "codemirror_mode": {
    "name": "ipython",
    "version": 3
   },
   "file_extension": ".py",
   "mimetype": "text/x-python",
   "name": "python",
   "nbconvert_exporter": "python",
   "pygments_lexer": "ipython3",
   "version": "3.7.6"
  }
 },
 "nbformat": 4,
 "nbformat_minor": 4
}
